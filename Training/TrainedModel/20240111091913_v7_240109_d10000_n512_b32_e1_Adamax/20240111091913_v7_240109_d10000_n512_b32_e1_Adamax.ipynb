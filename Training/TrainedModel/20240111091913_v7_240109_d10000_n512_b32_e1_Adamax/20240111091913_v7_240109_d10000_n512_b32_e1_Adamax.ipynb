{
 "cells": [
  {
   "cell_type": "code",
   "execution_count": 1,
   "source": [
    "# v7_240109(評価指標追加)\n",
    "\n",
    "#%%\n",
    "# 必要に応じてpip\n",
    "# !pip install --upgrade pip\n",
    "# !pip install numpy scikit-learn tensorflow matplotlib pillow pandas\n",
    "# !pip install seaborn"
   ],
   "outputs": [],
   "metadata": {}
  },
  {
   "cell_type": "code",
   "execution_count": 2,
   "source": [
    "# 機械学習のライブラリ関連をインポート\n",
    "import pandas as pd\n",
    "import numpy as np\n",
    "\n",
    "# ランダムにシャッフルして，学習・テストに分割するモジュール\n",
    "from sklearn.model_selection import ShuffleSplit\n",
    "\n",
    "# 評価指標の計算用\n",
    "from sklearn.metrics import classification_report, confusion_matrix\n",
    "import seaborn as sns\n",
    "\n",
    "# 深層学習のライブラリをインポート\n",
    "import tensorflow as tf\n",
    "import tensorflow.keras as keras\n",
    "\n",
    "#表示系のインポートと設定\n",
    "import matplotlib.pyplot as plt\n",
    "\n",
    "# ファイル操作\n",
    "import os\n",
    "\n",
    "# 画像操作\n",
    "from PIL import Image\n",
    "\n",
    "# 時間取得\n",
    "import datetime"
   ],
   "outputs": [
    {
     "output_type": "stream",
     "name": "stdout",
     "text": [
      "WARNING:tensorflow:From C:\\Users\\nao\\AppData\\Local\\Packages\\PythonSoftwareFoundation.Python.3.10_qbz5n2kfra8p0\\LocalCache\\local-packages\\Python310\\site-packages\\keras\\src\\losses.py:2976: The name tf.losses.sparse_softmax_cross_entropy is deprecated. Please use tf.compat.v1.losses.sparse_softmax_cross_entropy instead.\n",
      "\n"
     ]
    }
   ],
   "metadata": {}
  },
  {
   "cell_type": "code",
   "execution_count": 3,
   "source": [
    "# DIRS\n",
    "DATASET_NUM = 10000\n",
    "DIRS_DATASET = \"../Training/Datasets_v0108/Dataset\" + str(DATASET_NUM) + \"/\""
   ],
   "outputs": [],
   "metadata": {}
  },
  {
   "cell_type": "code",
   "execution_count": 4,
   "source": [
    "# ファイルを取得, 配列に格納, Pythonリスト型をnumpy.ndarray型に変換\n",
    "file_names = []\n",
    "    \n",
    "# フォルダ内のファイルを取得\n",
    "files = os.listdir(DIRS_DATASET)\n",
    "\n",
    "# ファイル名を配列に格納\n",
    "for file in files:\n",
    "    file_names.append(file)\n",
    "\n",
    "# Pythonリスト型をnumpy.ndarray型に変換\n",
    "file_names = np.array(file_names)"
   ],
   "outputs": [],
   "metadata": {}
  },
  {
   "cell_type": "code",
   "execution_count": 5,
   "source": [
    "file_names"
   ],
   "outputs": [
    {
     "output_type": "execute_result",
     "data": {
      "text/plain": [
       "array(['4510016121775.jpeg', '4510040841489.jpeg', '4510041988985.jpeg',\n",
       "       ..., '4999915370062.jpeg', '4999978425181.jpeg',\n",
       "       '4999985455584.jpeg'], dtype='<U18')"
      ]
     },
     "metadata": {},
     "execution_count": 5
    }
   ],
   "metadata": {}
  },
  {
   "cell_type": "code",
   "execution_count": 6,
   "source": [
    "def convert_to_grayscale(numpy_array):\n",
    "    # グレーと言わず2値化\n",
    "    grayscale_array = np.where(numpy_array <= 128, 0, 255)\n",
    "    # plt.imshow(grayscale_array) # こいつらのせいで処理が重かった。出力系は要注意\n",
    "    # print(grayscale_array)\n",
    "    return grayscale_array"
   ],
   "outputs": [],
   "metadata": {}
  },
  {
   "cell_type": "code",
   "execution_count": 7,
   "source": [
    "### 画像を配列にしてよしなに\n",
    "X, y = [], []"
   ],
   "outputs": [],
   "metadata": {}
  },
  {
   "cell_type": "code",
   "execution_count": 8,
   "source": [
    "for file_name in file_names:\n",
    "    numpy_array = np.array(Image.open(DIRS_DATASET + file_name)) # 画像をnumpy配列にする\n",
    "    # print(numpy_array)\n",
    "    grayscale_array = convert_to_grayscale(numpy_array)\n",
    "    # print(grayscale_array)\n",
    "    for i in range(13):\n",
    "        # grayscale_array1 = np.where(np.all(grayscale_array == 0, axis=-1), 0, 255)\n",
    "        # print(grayscale_array1)\n",
    "        grayscale_array2 = np.where(grayscale_array == 255, i+1, 0)\n",
    "        # print(grayscale_array2)\n",
    "        X.append(grayscale_array2)\n",
    "        y.append(file_name[i])"
   ],
   "outputs": [],
   "metadata": {}
  },
  {
   "cell_type": "code",
   "execution_count": 9,
   "source": [
    "# X, yをPythonリスト型をnumpy.ndarray型に変換\n",
    "X = np.array(X)\n",
    "X = X.squeeze()\n",
    "y = np.array(y, dtype=int)"
   ],
   "outputs": [],
   "metadata": {}
  },
  {
   "cell_type": "code",
   "execution_count": 10,
   "source": [
    "X"
   ],
   "outputs": [
    {
     "output_type": "execute_result",
     "data": {
      "text/plain": [
       "array([[0, 0, 0, ..., 0, 0, 0],\n",
       "       [0, 0, 0, ..., 0, 0, 0],\n",
       "       [0, 0, 0, ..., 0, 0, 0],\n",
       "       ...,\n",
       "       [0, 0, 0, ..., 0, 0, 0],\n",
       "       [0, 0, 0, ..., 0, 0, 0],\n",
       "       [0, 0, 0, ..., 0, 0, 0]])"
      ]
     },
     "metadata": {},
     "execution_count": 10
    }
   ],
   "metadata": {}
  },
  {
   "cell_type": "code",
   "execution_count": 11,
   "source": [
    "y"
   ],
   "outputs": [
    {
     "output_type": "execute_result",
     "data": {
      "text/plain": [
       "array([4, 5, 1, ..., 5, 8, 4])"
      ]
     },
     "metadata": {},
     "execution_count": 11
    }
   ],
   "metadata": {}
  },
  {
   "cell_type": "code",
   "execution_count": 12,
   "source": [
    "# ラベルデータをone-hotベクトルに直す\n",
    "def one_hot_vector(y):\n",
    "    labels = {\n",
    "        0: [1, 0, 0, 0, 0, 0, 0, 0, 0, 0], \n",
    "        1: [0, 1, 0, 0, 0, 0, 0, 0, 0, 0], \n",
    "        2: [0, 0, 1, 0, 0, 0, 0, 0, 0, 0], \n",
    "        3: [0, 0, 0, 1, 0, 0, 0, 0, 0, 0], \n",
    "        4: [0, 0, 0, 0, 1, 0, 0, 0, 0, 0], \n",
    "        5: [0, 0, 0, 0, 0, 1, 0, 0, 0, 0], \n",
    "        6: [0, 0, 0, 0, 0, 0, 1, 0, 0, 0], \n",
    "        7: [0, 0, 0, 0, 0, 0, 0, 1, 0, 0], \n",
    "        8: [0, 0, 0, 0, 0, 0, 0, 0, 1, 0], \n",
    "        9: [0, 0, 0, 0, 0, 0, 0, 0, 0, 1], \n",
    "    }\n",
    "\n",
    "    y = np.array(list(map(lambda v : labels[v] , y)))\n",
    "    return y\n",
    "\n",
    "# ラベルデータをone-hotベクトル「から」直す\n",
    "def one_hot_vector_restore(y):\n",
    "    labels = {\n",
    "        (1, 0, 0, 0, 0, 0, 0, 0, 0, 0): 0,\n",
    "        (0, 1, 0, 0, 0, 0, 0, 0, 0, 0): 1,\n",
    "        (0, 0, 1, 0, 0, 0, 0, 0, 0, 0): 2,\n",
    "        (0, 0, 0, 1, 0, 0, 0, 0, 0, 0): 3,\n",
    "        (0, 0, 0, 0, 1, 0, 0, 0, 0, 0): 4,\n",
    "        (0, 0, 0, 0, 0, 1, 0, 0, 0, 0): 5,\n",
    "        (0, 0, 0, 0, 0, 0, 1, 0, 0, 0): 6,\n",
    "        (0, 0, 0, 0, 0, 0, 0, 1, 0, 0): 7,\n",
    "        (0, 0, 0, 0, 0, 0, 0, 0, 1, 0): 8,\n",
    "        (0, 0, 0, 0, 0, 0, 0, 0, 0, 1): 9,\n",
    "    }\n",
    "\n",
    "    y = np.array([labels[tuple(one_hot)] for one_hot in y])\n",
    "    return y"
   ],
   "outputs": [],
   "metadata": {}
  },
  {
   "cell_type": "code",
   "execution_count": 13,
   "source": [
    "y = one_hot_vector(y)"
   ],
   "outputs": [],
   "metadata": {}
  },
  {
   "cell_type": "code",
   "execution_count": 14,
   "source": [
    "y"
   ],
   "outputs": [
    {
     "output_type": "execute_result",
     "data": {
      "text/plain": [
       "array([[0, 0, 0, ..., 0, 0, 0],\n",
       "       [0, 0, 0, ..., 0, 0, 0],\n",
       "       [0, 1, 0, ..., 0, 0, 0],\n",
       "       ...,\n",
       "       [0, 0, 0, ..., 0, 0, 0],\n",
       "       [0, 0, 0, ..., 0, 1, 0],\n",
       "       [0, 0, 0, ..., 0, 0, 0]])"
      ]
     },
     "metadata": {},
     "execution_count": 14
    }
   ],
   "metadata": {}
  },
  {
   "cell_type": "code",
   "execution_count": 15,
   "source": [
    "### データの分割\n",
    "ss = ShuffleSplit(n_splits=1,      # 分割を1個生成\n",
    "                  train_size=0.8,  # 学習\n",
    "                  test_size =0.2,  # テスト\n",
    "                  random_state=0)  # 乱数種（再現用）\n",
    "\n",
    "# 学習データとテストデータのインデックスを作成\n",
    "train_index, test_index = next(ss.split(X))\n",
    "\n",
    "X_train, X_test = X[train_index], X[test_index] # 学習データ，テストデータ\n",
    "y_train, y_test = y[train_index], y[test_index] # 学習データのラベル，テストデータのラベル"
   ],
   "outputs": [],
   "metadata": {}
  },
  {
   "cell_type": "code",
   "execution_count": 16,
   "source": [
    "X"
   ],
   "outputs": [
    {
     "output_type": "execute_result",
     "data": {
      "text/plain": [
       "array([[0, 0, 0, ..., 0, 0, 0],\n",
       "       [0, 0, 0, ..., 0, 0, 0],\n",
       "       [0, 0, 0, ..., 0, 0, 0],\n",
       "       ...,\n",
       "       [0, 0, 0, ..., 0, 0, 0],\n",
       "       [0, 0, 0, ..., 0, 0, 0],\n",
       "       [0, 0, 0, ..., 0, 0, 0]])"
      ]
     },
     "metadata": {},
     "execution_count": 16
    }
   ],
   "metadata": {}
  },
  {
   "cell_type": "code",
   "execution_count": 17,
   "source": [
    "y"
   ],
   "outputs": [
    {
     "output_type": "execute_result",
     "data": {
      "text/plain": [
       "array([[0, 0, 0, ..., 0, 0, 0],\n",
       "       [0, 0, 0, ..., 0, 0, 0],\n",
       "       [0, 1, 0, ..., 0, 0, 0],\n",
       "       ...,\n",
       "       [0, 0, 0, ..., 0, 0, 0],\n",
       "       [0, 0, 0, ..., 0, 1, 0],\n",
       "       [0, 0, 0, ..., 0, 0, 0]])"
      ]
     },
     "metadata": {},
     "execution_count": 17
    }
   ],
   "metadata": {}
  },
  {
   "cell_type": "code",
   "execution_count": 18,
   "source": [
    "X_train.shape[0], X_train.shape[1]"
   ],
   "outputs": [
    {
     "output_type": "execute_result",
     "data": {
      "text/plain": [
       "(104000, 337)"
      ]
     },
     "metadata": {},
     "execution_count": 18
    }
   ],
   "metadata": {}
  },
  {
   "cell_type": "code",
   "execution_count": 19,
   "source": [
    "X_train"
   ],
   "outputs": [
    {
     "output_type": "execute_result",
     "data": {
      "text/plain": [
       "array([[0, 0, 0, ..., 0, 0, 0],\n",
       "       [0, 0, 0, ..., 0, 0, 0],\n",
       "       [0, 0, 0, ..., 0, 0, 0],\n",
       "       ...,\n",
       "       [0, 0, 0, ..., 0, 0, 0],\n",
       "       [0, 0, 0, ..., 0, 0, 0],\n",
       "       [0, 0, 0, ..., 0, 0, 0]])"
      ]
     },
     "metadata": {},
     "execution_count": 19
    }
   ],
   "metadata": {}
  },
  {
   "cell_type": "code",
   "execution_count": 20,
   "source": [
    "### ニューラルネットワークの構築\n",
    "\n",
    "# 学習し、テストデータで評価し、スコアを表示する\n",
    "# 引数は、中間層の数、バッチサイズ、epoch数\n",
    "\n",
    "def fit_epoch(neuron, batch, epochs, ckpt_period, optimizer_name):\n",
    "    ver_name = \"v7_240109\"\n",
    "    \n",
    "    # チェックポイントの設定\n",
    "    dt_now = datetime.datetime.now()\n",
    "    checkpoint_path = \"./training_ckpt_\" + dt_now.strftime('%Y%m%d%H%M%S') + \"_\" + ver_name + \"_d\" + str(DATASET_NUM) + \"_n\" + str(neuron)  + \"_b\" + str(batch) + \"_e\" + str(epochs) + \"_\"+ optimizer_name + \"/cp-{epoch:09d}.ckpt\"\n",
    "    checkpoint_dir = os.path.dirname(checkpoint_path)\n",
    "    cp_callback = tf.keras.callbacks.ModelCheckpoint(\n",
    "        checkpoint_path,\n",
    "        verbose=1,\n",
    "        save_weights_only=True,\n",
    "        period=ckpt_period  # 重みをckpt_periodエポックごとに保存します\n",
    "    )\n",
    "\n",
    "\n",
    "    # レイヤーのオブジェクトを作成\n",
    "    Dense = keras.layers.Dense\n",
    "\n",
    "    # モデルの構造を定義\n",
    "    model = keras.models.Sequential()\n",
    "    model.add(tf.keras.layers.Flatten(input_shape=(337, )))\n",
    "    model.add(Dense(neuron, activation='relu'))\n",
    "    \n",
    "    # 畳み込み層を追加\n",
    "    # model.add(tf.keras.layers.Flatten(tf.keras.layers.Conv2D(filters=neuron, kernel_size=(3, 3), activation='relu', input_shape=(1, 337, 3))))\n",
    "\n",
    "    model.add(Dense(10, activation='softmax')) # 10つのラベルがありsoftmaxで最後の層作る\n",
    "\n",
    "    # モデルを構築\n",
    "    model.compile(\n",
    "        loss='categorical_crossentropy',\n",
    "        optimizer=optimizer_name,\n",
    "        metrics=['accuracy']\n",
    "    )\n",
    "\n",
    "    # 必要に応じてチェックポイントから再開\n",
    "    model.load_weights(\"./training_ckpt_20240110100535_v7_240109_d10000_n512_b32_e80000_Adamax/cp-000007400.ckpt\")\n",
    "\n",
    "    # 学習を実行\n",
    "    hist = model.fit(X_train, y_train,\n",
    "        batch_size=batch, # 誤差逆伝播法をするときの1回当たりのデータ数\n",
    "        epochs=epochs,\n",
    "        callbacks=[cp_callback],\n",
    "        verbose=1,\n",
    "        validation_split=0.1)\n",
    "    \n",
    "    # モデルの保存\n",
    "    model.save(\"./TrainedModel/\" + dt_now.strftime('%Y%m%d%H%M%S') + \"_\" + ver_name + \"_d\" + str(DATASET_NUM) + \"_n\" + str(neuron)  + \"_b\" + str(batch) + \"_e\" + str(epochs) + \"_\"+ optimizer_name)\n",
    "    \n",
    "    # モデルを評価\n",
    "    score = model.evaluate(X_test, y_test, verbose=1)\n",
    "    print('正解率(Accuracy)=', score[1], 'loss=', score[0])\n",
    "\n",
    "    # 予測を取得\n",
    "    predictions = model.predict(X_test)\n",
    "    predicted_labels = tf.argmax(predictions, axis=1).numpy()\n",
    "    y_test_restored = one_hot_vector_restore(y_test) # one-hotベクトル「から」直す\n",
    "\n",
    "    print(predicted_labels)\n",
    "\n",
    "    # classification_reportを使用して評価指標を表示\n",
    "    df_report = pd.DataFrame(classification_report(y_test_restored, predicted_labels, output_dict=True)).T\n",
    "    print(df_report)\n",
    "\n",
    "    # seabornのヒートマップ\n",
    "    sns.heatmap(confusion_matrix(y_test_restored, predicted_labels), annot=True)\n",
    "    plt.xlabel(\"pred\")\n",
    "    plt.ylabel('true')\n",
    "    plt.show()\n",
    "    \n",
    "    # 学習の様子をグラフへ描画 \n",
    "    # 正解率の推移をプロット\n",
    "    plt.plot(hist.history['accuracy'])\n",
    "    plt.plot(hist.history['val_accuracy'])\n",
    "    plt.title('Accuracy')\n",
    "    plt.legend(['train', 'test'], loc='upper left')\n",
    "    plt.show()\n",
    "\n",
    "    # ロスの推移をプロット\n",
    "    plt.plot(hist.history['loss'])\n",
    "    plt.plot(hist.history['val_loss'])\n",
    "    plt.title('Loss')\n",
    "    plt.legend(['train', 'test'], loc='upper left')\n",
    "    plt.show()   "
   ],
   "outputs": [],
   "metadata": {}
  },
  {
   "cell_type": "code",
   "execution_count": 21,
   "source": [
    "print(DATASET_NUM)"
   ],
   "outputs": [
    {
     "output_type": "stream",
     "name": "stdout",
     "text": [
      "10000\n"
     ]
    }
   ],
   "metadata": {}
  },
  {
   "cell_type": "code",
   "execution_count": 22,
   "source": [
    "# fit_epoch(中間層の数, バッチサイズ, 学習回数, チェックポイントの作成タイミング, 最適化関数)\n",
    "fit_epoch(     512,          32,        1,                  2,              \"Adamax\")"
   ],
   "outputs": [
    {
     "output_type": "stream",
     "name": "stdout",
     "text": [
      "WARNING:tensorflow:`period` argument is deprecated. Please use `save_freq` to specify the frequency in number of batches seen.\n",
      "WARNING:tensorflow:From C:\\Users\\nao\\AppData\\Local\\Packages\\PythonSoftwareFoundation.Python.3.10_qbz5n2kfra8p0\\LocalCache\\local-packages\\Python310\\site-packages\\keras\\src\\backend.py:873: The name tf.get_default_graph is deprecated. Please use tf.compat.v1.get_default_graph instead.\n",
      "\n",
      "WARNING:tensorflow:From C:\\Users\\nao\\AppData\\Local\\Packages\\PythonSoftwareFoundation.Python.3.10_qbz5n2kfra8p0\\LocalCache\\local-packages\\Python310\\site-packages\\keras\\src\\optimizers\\__init__.py:309: The name tf.train.Optimizer is deprecated. Please use tf.compat.v1.train.Optimizer instead.\n",
      "\n",
      "WARNING:tensorflow:From C:\\Users\\nao\\AppData\\Local\\Packages\\PythonSoftwareFoundation.Python.3.10_qbz5n2kfra8p0\\LocalCache\\local-packages\\Python310\\site-packages\\keras\\src\\utils\\tf_utils.py:492: The name tf.ragged.RaggedTensorValue is deprecated. Please use tf.compat.v1.ragged.RaggedTensorValue instead.\n",
      "\n",
      "WARNING:tensorflow:From C:\\Users\\nao\\AppData\\Local\\Packages\\PythonSoftwareFoundation.Python.3.10_qbz5n2kfra8p0\\LocalCache\\local-packages\\Python310\\site-packages\\keras\\src\\engine\\base_layer_utils.py:384: The name tf.executing_eagerly_outside_functions is deprecated. Please use tf.compat.v1.executing_eagerly_outside_functions instead.\n",
      "\n",
      "2925/2925 [==============================] - 17s 5ms/step - loss: 0.0488 - accuracy: 0.9877 - val_loss: 0.1341 - val_accuracy: 0.9790\n",
      "INFO:tensorflow:Assets written to: ./TrainedModel/20240111091913_v7_240109_d10000_n512_b32_e1_Adamax\\assets\n"
     ]
    },
    {
     "output_type": "stream",
     "name": "stderr",
     "text": [
      "INFO:tensorflow:Assets written to: ./TrainedModel/20240111091913_v7_240109_d10000_n512_b32_e1_Adamax\\assets\n"
     ]
    },
    {
     "output_type": "stream",
     "name": "stdout",
     "text": [
      "813/813 [==============================] - 3s 3ms/step - loss: 0.1275 - accuracy: 0.9757\n",
      "正解率(Accuracy)= 0.9756538271903992 loss= 0.12747812271118164\n",
      "813/813 [==============================] - 2s 3ms/step\n",
      "[0 1 3 ... 9 5 7]\n",
      "              precision    recall  f1-score       support\n",
      "0              0.981689  0.964036  0.972782   2002.000000\n",
      "1              0.979034  0.979480  0.979257   2193.000000\n",
      "2              0.987896  0.974736  0.981272   2177.000000\n",
      "3              0.959507  0.968889  0.964175   2250.000000\n",
      "4              0.979498  0.978554  0.979026   4150.000000\n",
      "5              0.982226  0.981920  0.982073   3208.000000\n",
      "6              0.971480  0.961623  0.966526   2267.000000\n",
      "7              0.969138  0.986905  0.977941   2291.000000\n",
      "8              0.988986  0.971158  0.979991   2219.000000\n",
      "9              0.960435  0.980574  0.970400   3243.000000\n",
      "accuracy       0.975654  0.975654  0.975654      0.975654\n",
      "macro avg      0.975989  0.974788  0.975344  26000.000000\n",
      "weighted avg   0.975757  0.975654  0.975664  26000.000000\n"
     ]
    },
    {
     "output_type": "display_data",
     "data": {
      "image/png": "[encoded data removed]",
      "text/plain": [
       "<Figure size 640x480 with 2 Axes>"
      ]
     },
     "metadata": {}
    },
    {
     "output_type": "display_data",
     "data": {
      "image/png": "[encoded data removed]",
      "text/plain": [
       "<Figure size 640x480 with 1 Axes>"
      ]
     },
     "metadata": {}
    },
    {
     "output_type": "display_data",
     "data": {
      "image/png": "[encoded data removed]",
      "text/plain": [
       "<Figure size 640x480 with 1 Axes>"
      ]
     },
     "metadata": {}
    }
   ],
   "metadata": {}
  }
 ],
 "nbformat": 4,
 "nbformat_minor": 2,
 "metadata": {
  "language_info": {
   "codemirror_mode": {
    "name": "ipython",
    "version": 3
   },
   "file_extension": ".py",
   "mimetype": "text/x-python",
   "name": "python",
   "nbconvert_exporter": "python",
   "pygments_lexer": "ipython3",
   "version": 3
  }
 }
}