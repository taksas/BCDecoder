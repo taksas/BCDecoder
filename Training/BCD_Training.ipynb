{
 "cells": [
  {
   "cell_type": "code",
   "execution_count": 1,
   "metadata": {},
   "outputs": [],
   "source": [
    "# 必要に応じて\n",
    "# !pip install --upgrade pip\n",
    "# !pip install numpy scikit-learn tensorflow matplotlib pillow pandas"
   ]
  },
  {
   "cell_type": "code",
   "execution_count": 2,
   "metadata": {},
   "outputs": [
    {
     "name": "stdout",
     "output_type": "stream",
     "text": [
      "WARNING:tensorflow:From C:\\Users\\TAKUMI\\AppData\\Local\\Packages\\PythonSoftwareFoundation.Python.3.11_qbz5n2kfra8p0\\LocalCache\\local-packages\\Python311\\site-packages\\keras\\src\\losses.py:2976: The name tf.losses.sparse_softmax_cross_entropy is deprecated. Please use tf.compat.v1.losses.sparse_softmax_cross_entropy instead.\n",
      "\n"
     ]
    }
   ],
   "source": [
    "# 機械学習のライブラリ関連をインポート\n",
    "import pandas as pd\n",
    "import numpy as np\n",
    "\n",
    "# ランダムにシャッフルして，学習・テストに分割するモジュール\n",
    "from sklearn.model_selection import ShuffleSplit\n",
    "\n",
    "# 深層学習のライブラリをインポート\n",
    "import tensorflow as tf\n",
    "import tensorflow.keras as keras\n",
    "\n",
    "#表示系のインポートと設定\n",
    "%matplotlib inline\n",
    "import matplotlib.pyplot as plt\n",
    "\n",
    "# ファイル操作\n",
    "import os\n",
    "\n",
    "# 画像操作\n",
    "from PIL import Image\n",
    "\n",
    "# 時間取得\n",
    "import datetime"
   ]
  },
  {
   "cell_type": "code",
   "execution_count": 47,
   "metadata": {},
   "outputs": [],
   "source": [
    "# DIRS\n",
    "DATASET_NUM = 1\n",
    "DIRS_DATASET = \"../Training/Datasets\" + str(DATASET_NUM) + \"/\""
   ]
  },
  {
   "cell_type": "code",
   "execution_count": 48,
   "metadata": {},
   "outputs": [],
   "source": [
    "file_names = []\n",
    "    \n",
    "# フォルダ内のファイルを取得\n",
    "files = os.listdir(DIRS_DATASET)\n",
    "\n",
    "# ファイル名を配列に格納\n",
    "for file in files:\n",
    "    file_names.append(file)\n",
    "\n",
    "# Pythonリスト型をnumpy.ndarray型に変換\n",
    "file_names = np.array(file_names)\n"
   ]
  },
  {
   "cell_type": "code",
   "execution_count": 49,
   "metadata": {},
   "outputs": [
    {
     "data": {
      "text/plain": [
       "array(['4525491507698.jpeg'], dtype='<U18')"
      ]
     },
     "execution_count": 49,
     "metadata": {},
     "output_type": "execute_result"
    }
   ],
   "source": [
    "file_names"
   ]
  },
  {
   "cell_type": "markdown",
   "metadata": {},
   "source": [
    "### 画像をnumpy配列にするための関数"
   ]
  },
  {
   "cell_type": "code",
   "execution_count": 52,
   "metadata": {},
   "outputs": [],
   "source": [
    "def jpeg_to_numpy(image_path):\n",
    "    # JPEG画像を開く\n",
    "    image = Image.open(image_path)\n",
    "    # NumPy配列に変換\n",
    "    numpy_array = np.array(image)\n",
    "    \n",
    "    return numpy_array\n",
    "\n",
    "def convert_to_grayscale(numpy_array):\n",
    "    # グレーと言わず2値化\n",
    "    grayscale_array = np.where(numpy_array <= 128, 0, 255)\n",
    "    # plt.imshow(grayscale_array) # こいつらのせいで処理が重かった。出力系は要注意\n",
    "    # print(grayscale_array)\n",
    "    return grayscale_array\n"
   ]
  },
  {
   "cell_type": "markdown",
   "metadata": {},
   "source": [
    "### 画像を配列にしてよしなに"
   ]
  },
  {
   "cell_type": "code",
   "execution_count": 126,
   "metadata": {},
   "outputs": [],
   "source": [
    "X, y = [], []"
   ]
  },
  {
   "cell_type": "code",
   "execution_count": 127,
   "metadata": {},
   "outputs": [],
   "source": [
    "for file_name in file_names:\n",
    "    numpy_array = jpeg_to_numpy(DIRS_DATASET + file_name)\n",
    "    grayscale_array = convert_to_grayscale(numpy_array)\n",
    "    for i in range(13):\n",
    "        grayscale_array1 = np.where(np.all(grayscale_array == [0, 0, 0], axis=-1), 0, 255)\n",
    "        grayscale_array2 = np.where(grayscale_array1 == 255, i+1, 0)\n",
    "        X.append(grayscale_array2)\n",
    "        y.append(file_name[i])"
   ]
  },
  {
   "cell_type": "code",
   "execution_count": 128,
   "metadata": {},
   "outputs": [],
   "source": [
    "X = np.array(X)\n",
    "X = X.squeeze()\n",
    "y = np.array(y, dtype=int)"
   ]
  },
  {
   "cell_type": "code",
   "execution_count": 129,
   "metadata": {},
   "outputs": [
    {
     "data": {
      "text/plain": [
       "array([[ 0,  1,  0, ...,  1,  1,  0],\n",
       "       [ 0,  2,  0, ...,  2,  2,  0],\n",
       "       [ 0,  3,  0, ...,  3,  3,  0],\n",
       "       ...,\n",
       "       [ 0, 11,  0, ..., 11, 11,  0],\n",
       "       [ 0, 12,  0, ..., 12, 12,  0],\n",
       "       [ 0, 13,  0, ..., 13, 13,  0]])"
      ]
     },
     "execution_count": 129,
     "metadata": {},
     "output_type": "execute_result"
    }
   ],
   "source": [
    "X"
   ]
  },
  {
   "cell_type": "code",
   "execution_count": 130,
   "metadata": {},
   "outputs": [
    {
     "data": {
      "text/plain": [
       "array([4, 5, 2, 5, 4, 9, 1, 5, 0, 7, 6, 9, 8])"
      ]
     },
     "execution_count": 130,
     "metadata": {},
     "output_type": "execute_result"
    }
   ],
   "source": [
    "y"
   ]
  },
  {
   "cell_type": "code",
   "execution_count": 131,
   "metadata": {},
   "outputs": [],
   "source": [
    "# ラベルデータをone-hotベクトルに直す\n",
    "labels = {\n",
    "    0: [1, 0, 0, 0, 0, 0, 0, 0, 0, 0], \n",
    "    1: [0, 1, 0, 0, 0, 0, 0, 0, 0, 0], \n",
    "    2: [0, 0, 1, 0, 0, 0, 0, 0, 0, 0], \n",
    "    3: [0, 0, 0, 1, 0, 0, 0, 0, 0, 0], \n",
    "    4: [0, 0, 0, 0, 1, 0, 0, 0, 0, 0], \n",
    "    5: [0, 0, 0, 0, 0, 1, 0, 0, 0, 0], \n",
    "    6: [0, 0, 0, 0, 0, 0, 1, 0, 0, 0], \n",
    "    7: [0, 0, 0, 0, 0, 0, 0, 1, 0, 0], \n",
    "    8: [0, 0, 0, 0, 0, 0, 0, 0, 1, 0], \n",
    "    9: [0, 0, 0, 0, 0, 0, 0, 0, 0, 1], \n",
    "}\n",
    "\n",
    "y = np.array(list(map(lambda v : labels[v] , y)))"
   ]
  },
  {
   "cell_type": "code",
   "execution_count": 132,
   "metadata": {},
   "outputs": [
    {
     "data": {
      "text/plain": [
       "array([[0, 0, 0, 0, 1, 0, 0, 0, 0, 0],\n",
       "       [0, 0, 0, 0, 0, 1, 0, 0, 0, 0],\n",
       "       [0, 0, 1, 0, 0, 0, 0, 0, 0, 0],\n",
       "       [0, 0, 0, 0, 0, 1, 0, 0, 0, 0],\n",
       "       [0, 0, 0, 0, 1, 0, 0, 0, 0, 0],\n",
       "       [0, 0, 0, 0, 0, 0, 0, 0, 0, 1],\n",
       "       [0, 1, 0, 0, 0, 0, 0, 0, 0, 0],\n",
       "       [0, 0, 0, 0, 0, 1, 0, 0, 0, 0],\n",
       "       [1, 0, 0, 0, 0, 0, 0, 0, 0, 0],\n",
       "       [0, 0, 0, 0, 0, 0, 0, 1, 0, 0],\n",
       "       [0, 0, 0, 0, 0, 0, 1, 0, 0, 0],\n",
       "       [0, 0, 0, 0, 0, 0, 0, 0, 0, 1],\n",
       "       [0, 0, 0, 0, 0, 0, 0, 0, 1, 0]])"
      ]
     },
     "execution_count": 132,
     "metadata": {},
     "output_type": "execute_result"
    }
   ],
   "source": [
    "y"
   ]
  },
  {
   "cell_type": "markdown",
   "metadata": {},
   "source": [
    "### データの分割"
   ]
  },
  {
   "cell_type": "code",
   "execution_count": 133,
   "metadata": {},
   "outputs": [],
   "source": [
    "ss = ShuffleSplit(n_splits=1,      # 分割を1個生成\n",
    "                  train_size=0.8,  # 学習\n",
    "                  test_size =0.2,  # テスト\n",
    "                  random_state=0)  # 乱数種（再現用）\n",
    "\n",
    "# 学習データとテストデータのインデックスを作成\n",
    "train_index, test_index = next(ss.split(X))\n",
    "\n",
    "X_train, X_test = X[train_index], X[test_index] # 学習データ，テストデータ\n",
    "y_train, y_test = y[train_index], y[test_index] # 学習データのラベル，テストデータのラベル"
   ]
  },
  {
   "cell_type": "code",
   "execution_count": 134,
   "metadata": {},
   "outputs": [
    {
     "data": {
      "text/plain": [
       "array([[ 0,  1,  0, ...,  1,  1,  0],\n",
       "       [ 0,  2,  0, ...,  2,  2,  0],\n",
       "       [ 0,  3,  0, ...,  3,  3,  0],\n",
       "       ...,\n",
       "       [ 0, 11,  0, ..., 11, 11,  0],\n",
       "       [ 0, 12,  0, ..., 12, 12,  0],\n",
       "       [ 0, 13,  0, ..., 13, 13,  0]])"
      ]
     },
     "execution_count": 134,
     "metadata": {},
     "output_type": "execute_result"
    }
   ],
   "source": [
    "X"
   ]
  },
  {
   "cell_type": "code",
   "execution_count": 135,
   "metadata": {},
   "outputs": [
    {
     "data": {
      "text/plain": [
       "array([[0, 0, 0, 0, 1, 0, 0, 0, 0, 0],\n",
       "       [0, 0, 0, 0, 0, 1, 0, 0, 0, 0],\n",
       "       [0, 0, 1, 0, 0, 0, 0, 0, 0, 0],\n",
       "       [0, 0, 0, 0, 0, 1, 0, 0, 0, 0],\n",
       "       [0, 0, 0, 0, 1, 0, 0, 0, 0, 0],\n",
       "       [0, 0, 0, 0, 0, 0, 0, 0, 0, 1],\n",
       "       [0, 1, 0, 0, 0, 0, 0, 0, 0, 0],\n",
       "       [0, 0, 0, 0, 0, 1, 0, 0, 0, 0],\n",
       "       [1, 0, 0, 0, 0, 0, 0, 0, 0, 0],\n",
       "       [0, 0, 0, 0, 0, 0, 0, 1, 0, 0],\n",
       "       [0, 0, 0, 0, 0, 0, 1, 0, 0, 0],\n",
       "       [0, 0, 0, 0, 0, 0, 0, 0, 0, 1],\n",
       "       [0, 0, 0, 0, 0, 0, 0, 0, 1, 0]])"
      ]
     },
     "execution_count": 135,
     "metadata": {},
     "output_type": "execute_result"
    }
   ],
   "source": [
    "y"
   ]
  },
  {
   "cell_type": "code",
   "execution_count": 137,
   "metadata": {},
   "outputs": [
    {
     "data": {
      "text/plain": [
       "(10, 112)"
      ]
     },
     "execution_count": 137,
     "metadata": {},
     "output_type": "execute_result"
    }
   ],
   "source": [
    "X_train.shape[0], X_train.shape[1]"
   ]
  },
  {
   "cell_type": "code",
   "execution_count": 138,
   "metadata": {},
   "outputs": [
    {
     "data": {
      "text/plain": [
       "array([[ 0, 11,  0, ..., 11, 11,  0],\n",
       "       [ 0,  3,  0, ...,  3,  3,  0],\n",
       "       [ 0,  9,  0, ...,  9,  9,  0],\n",
       "       ...,\n",
       "       [ 0,  1,  0, ...,  1,  1,  0],\n",
       "       [ 0,  6,  0, ...,  6,  6,  0],\n",
       "       [ 0, 13,  0, ..., 13, 13,  0]])"
      ]
     },
     "execution_count": 138,
     "metadata": {},
     "output_type": "execute_result"
    }
   ],
   "source": [
    "X_train"
   ]
  },
  {
   "cell_type": "markdown",
   "metadata": {},
   "source": [
    "### ニューラルネットワークの構築"
   ]
  },
  {
   "cell_type": "code",
   "execution_count": 142,
   "metadata": {},
   "outputs": [],
   "source": [
    "\n",
    "# 学習し、テストデータで評価し、スコアを表示する\n",
    "# 引数は、中間層の数、バッチサイズ、epoch数\n",
    "\n",
    "def fit_epoch(neuron, batch, epochs, ckpt_period):\n",
    "    ver_name = \"231229-v3\"\n",
    "    \n",
    "    # チェックポイントの設定\n",
    "    dt_now = datetime.datetime.now()\n",
    "    checkpoint_path = \"./training_ckpt_v\" + ver_name + \"_d\" + str(DATASET_NUM) + \"_n\" + str(neuron)  + \"_b\" + str(batch) + \"_e\" + str(epochs) + \"_\" + dt_now.strftime('%Y%m%d%H%M%S') + \"/cp-{epoch:06d}.ckpt\"\n",
    "    checkpoint_dir = os.path.dirname(checkpoint_path)\n",
    "    cp_callback = tf.keras.callbacks.ModelCheckpoint(\n",
    "        checkpoint_path,\n",
    "        verbose=1,\n",
    "        save_weights_only=True,\n",
    "        period=ckpt_period  # 重みをckpt_periodエポックごとに保存します\n",
    "    )\n",
    "\n",
    "\n",
    "    # レイヤーのオブジェクトを作成\n",
    "    Dense = keras.layers.Dense\n",
    "\n",
    "    # モデルの構造を定義\n",
    "    model = keras.models.Sequential()\n",
    "    model.add(tf.keras.layers.Flatten(input_shape=(112, )))\n",
    "    model.add(Dense(neuron, activation='relu'))\n",
    "    \n",
    "    # 畳み込み層を追加\n",
    "    # model.add(tf.keras.layers.Flatten(tf.keras.layers.Conv2D(filters=neuron, kernel_size=(3, 3), activation='relu', input_shape=(1, 112, 3))))\n",
    "\n",
    "    model.add(Dense(10, activation='softmax')) # 10つのラベルがありsoftmaxで最後の層作る\n",
    "\n",
    "    # モデルを構築\n",
    "    model.compile(\n",
    "        loss='categorical_crossentropy',\n",
    "        optimizer='Adamax',\n",
    "        metrics=['accuracy']\n",
    "    )\n",
    "\n",
    "    # 必要に応じてチェックポイントから再開\n",
    "    # model.load_weights(\"\")\n",
    "\n",
    "    # 学習を実行\n",
    "    hist = model.fit(X_train, y_train,\n",
    "        batch_size=batch, # 誤差逆伝播法をするときの1回当たりのデータ数\n",
    "        epochs=epochs,\n",
    "        callbacks=[cp_callback],\n",
    "        verbose=1,\n",
    "        validation_split=0.1)\n",
    "    \n",
    "   # モデルを評価\n",
    "    score = model.evaluate(X_test, y_test, verbose=1)\n",
    "    print('正解率=', score[1], 'loss=', score[0])\n",
    "    \n",
    "     # 学習の様子をグラフへ描画 \n",
    "    # 正解率の推移をプロット\n",
    "    plt.plot(hist.history['accuracy'])\n",
    "    plt.plot(hist.history['val_accuracy'])\n",
    "    plt.title('Accuracy')\n",
    "    plt.legend(['train', 'test'], loc='upper left')\n",
    "    plt.show()\n",
    "\n",
    "    # ロスの推移をプロット\n",
    "    plt.plot(hist.history['loss'])\n",
    "    plt.plot(hist.history['val_loss'])\n",
    "    plt.title('Loss')\n",
    "    plt.legend(['train', 'test'], loc='upper left')\n",
    "    plt.show()   "
   ]
  },
  {
   "cell_type": "code",
   "execution_count": 143,
   "metadata": {},
   "outputs": [
    {
     "name": "stdout",
     "output_type": "stream",
     "text": [
      "1\n"
     ]
    }
   ],
   "source": [
    "print(DATASET_NUM)"
   ]
  },
  {
   "cell_type": "code",
   "execution_count": 144,
   "metadata": {},
   "outputs": [
    {
     "name": "stdout",
     "output_type": "stream",
     "text": [
      "WARNING:tensorflow:`period` argument is deprecated. Please use `save_freq` to specify the frequency in number of batches seen.\n",
      "Epoch 1/400000\n",
      "1/1 [==============================] - 1s 966ms/step - loss: 7.9414 - accuracy: 0.0000e+00 - val_loss: 16.3638 - val_accuracy: 0.0000e+00\n",
      "Epoch 2/400000\n",
      "1/1 [==============================] - 0s 49ms/step - loss: 7.2185 - accuracy: 0.0000e+00 - val_loss: 15.2457 - val_accuracy: 0.0000e+00\n",
      "Epoch 3/400000\n",
      "1/1 [==============================] - 0s 42ms/step - loss: 6.5229 - accuracy: 0.0000e+00 - val_loss: 14.1533 - val_accuracy: 0.0000e+00\n",
      "Epoch 4/400000\n",
      "1/1 [==============================] - 0s 51ms/step - loss: 5.8646 - accuracy: 0.0000e+00 - val_loss: 13.1151 - val_accuracy: 0.0000e+00\n",
      "Epoch 5/400000\n",
      "1/1 [==============================] - 0s 49ms/step - loss: 5.2624 - accuracy: 0.0000e+00 - val_loss: 12.2183 - val_accuracy: 0.0000e+00\n",
      "Epoch 6/400000\n",
      "1/1 [==============================] - 0s 43ms/step - loss: 4.7514 - accuracy: 0.0000e+00 - val_loss: 11.6591 - val_accuracy: 0.0000e+00\n",
      "Epoch 7/400000\n",
      "1/1 [==============================] - 0s 49ms/step - loss: 4.3734 - accuracy: 0.0000e+00 - val_loss: 11.5686 - val_accuracy: 0.0000e+00\n",
      "Epoch 8/400000\n",
      "1/1 [==============================] - 0s 44ms/step - loss: 4.1299 - accuracy: 0.1111 - val_loss: 11.6768 - val_accuracy: 0.0000e+00\n",
      "Epoch 9/400000\n",
      "1/1 [==============================] - 0s 40ms/step - loss: 3.9741 - accuracy: 0.1111 - val_loss: 11.7827 - val_accuracy: 0.0000e+00\n",
      "Epoch 10/400000\n",
      "1/1 [==============================] - 0s 40ms/step - loss: 3.8519 - accuracy: 0.1111 - val_loss: 11.9457 - val_accuracy: 0.0000e+00\n",
      "Epoch 11/400000\n",
      "1/1 [==============================] - 0s 46ms/step - loss: 3.7403 - accuracy: 0.1111 - val_loss: 12.1593 - val_accuracy: 0.0000e+00\n",
      "Epoch 12/400000\n",
      "1/1 [==============================] - 0s 42ms/step - loss: 3.6403 - accuracy: 0.1111 - val_loss: 12.4203 - val_accuracy: 0.0000e+00\n",
      "Epoch 13/400000\n",
      "1/1 [==============================] - 0s 41ms/step - loss: 3.5552 - accuracy: 0.3333 - val_loss: 12.7030 - val_accuracy: 0.0000e+00\n",
      "Epoch 14/400000\n",
      "1/1 [==============================] - 0s 43ms/step - loss: 3.4836 - accuracy: 0.3333 - val_loss: 12.9689 - val_accuracy: 0.0000e+00\n",
      "Epoch 15/400000\n",
      "1/1 [==============================] - 0s 38ms/step - loss: 3.4195 - accuracy: 0.3333 - val_loss: 13.1867 - val_accuracy: 0.0000e+00\n",
      "Epoch 16/400000\n",
      "1/1 [==============================] - 0s 40ms/step - loss: 3.3567 - accuracy: 0.3333 - val_loss: 13.3436 - val_accuracy: 0.0000e+00\n",
      "Epoch 17/400000\n",
      "1/1 [==============================] - 0s 38ms/step - loss: 3.2920 - accuracy: 0.3333 - val_loss: 13.4453 - val_accuracy: 0.0000e+00\n",
      "Epoch 18/400000\n",
      "1/1 [==============================] - 0s 39ms/step - loss: 3.2259 - accuracy: 0.3333 - val_loss: 13.5100 - val_accuracy: 0.0000e+00\n",
      "Epoch 19/400000\n",
      "1/1 [==============================] - 0s 43ms/step - loss: 3.1610 - accuracy: 0.3333 - val_loss: 13.5594 - val_accuracy: 0.0000e+00\n",
      "Epoch 20/400000\n",
      "1/1 [==============================] - 0s 41ms/step - loss: 3.1000 - accuracy: 0.3333 - val_loss: 13.6112 - val_accuracy: 0.0000e+00\n",
      "Epoch 21/400000\n",
      "1/1 [==============================] - 0s 43ms/step - loss: 3.0444 - accuracy: 0.3333 - val_loss: 13.6745 - val_accuracy: 0.0000e+00\n",
      "Epoch 22/400000\n",
      "1/1 [==============================] - 0s 45ms/step - loss: 2.9936 - accuracy: 0.3333 - val_loss: 13.7507 - val_accuracy: 0.0000e+00\n",
      "Epoch 23/400000\n",
      "1/1 [==============================] - 0s 49ms/step - loss: 2.9457 - accuracy: 0.3333 - val_loss: 13.8365 - val_accuracy: 0.0000e+00\n",
      "Epoch 24/400000\n",
      "1/1 [==============================] - 0s 46ms/step - loss: 2.8988 - accuracy: 0.3333 - val_loss: 13.9282 - val_accuracy: 0.0000e+00\n",
      "Epoch 25/400000\n",
      "1/1 [==============================] - 0s 41ms/step - loss: 2.8515 - accuracy: 0.3333 - val_loss: 14.0225 - val_accuracy: 0.0000e+00\n",
      "Epoch 26/400000\n",
      "1/1 [==============================] - 0s 43ms/step - loss: 2.8035 - accuracy: 0.3333 - val_loss: 14.1167 - val_accuracy: 0.0000e+00\n",
      "Epoch 27/400000\n",
      "1/1 [==============================] - 0s 42ms/step - loss: 2.7551 - accuracy: 0.3333 - val_loss: 14.2078 - val_accuracy: 0.0000e+00\n",
      "Epoch 28/400000\n",
      "1/1 [==============================] - 0s 41ms/step - loss: 2.7072 - accuracy: 0.3333 - val_loss: 14.2918 - val_accuracy: 0.0000e+00\n",
      "Epoch 29/400000\n",
      "1/1 [==============================] - 0s 43ms/step - loss: 2.6603 - accuracy: 0.3333 - val_loss: 14.3636 - val_accuracy: 0.0000e+00\n",
      "Epoch 30/400000\n",
      "1/1 [==============================] - 0s 41ms/step - loss: 2.6148 - accuracy: 0.3333 - val_loss: 14.4174 - val_accuracy: 0.0000e+00\n",
      "Epoch 31/400000\n",
      "1/1 [==============================] - 0s 40ms/step - loss: 2.5705 - accuracy: 0.3333 - val_loss: 14.4482 - val_accuracy: 0.0000e+00\n",
      "Epoch 32/400000\n",
      "1/1 [==============================] - 0s 40ms/step - loss: 2.5271 - accuracy: 0.3333 - val_loss: 14.4522 - val_accuracy: 0.0000e+00\n",
      "Epoch 33/400000\n",
      "1/1 [==============================] - 0s 44ms/step - loss: 2.4844 - accuracy: 0.3333 - val_loss: 14.4282 - val_accuracy: 0.0000e+00\n",
      "Epoch 34/400000\n",
      "1/1 [==============================] - 0s 40ms/step - loss: 2.4422 - accuracy: 0.3333 - val_loss: 14.3768 - val_accuracy: 0.0000e+00\n",
      "Epoch 35/400000\n",
      "1/1 [==============================] - 0s 50ms/step - loss: 2.4003 - accuracy: 0.3333 - val_loss: 14.3010 - val_accuracy: 0.0000e+00\n",
      "Epoch 36/400000\n",
      "1/1 [==============================] - 0s 40ms/step - loss: 2.3592 - accuracy: 0.3333 - val_loss: 14.2051 - val_accuracy: 0.0000e+00\n",
      "Epoch 37/400000\n",
      "1/1 [==============================] - 0s 43ms/step - loss: 2.3191 - accuracy: 0.3333 - val_loss: 14.0945 - val_accuracy: 0.0000e+00\n",
      "Epoch 38/400000\n",
      "1/1 [==============================] - 0s 41ms/step - loss: 2.2805 - accuracy: 0.3333 - val_loss: 13.9743 - val_accuracy: 0.0000e+00\n",
      "Epoch 39/400000\n",
      "1/1 [==============================] - 0s 40ms/step - loss: 2.2437 - accuracy: 0.3333 - val_loss: 13.8495 - val_accuracy: 0.0000e+00\n",
      "Epoch 40/400000\n",
      "1/1 [==============================] - 0s 39ms/step - loss: 2.2092 - accuracy: 0.3333 - val_loss: 13.7245 - val_accuracy: 0.0000e+00\n",
      "Epoch 41/400000\n",
      "1/1 [==============================] - 0s 39ms/step - loss: 2.1769 - accuracy: 0.3333 - val_loss: 13.6026 - val_accuracy: 0.0000e+00\n",
      "Epoch 42/400000\n",
      "1/1 [==============================] - 0s 41ms/step - loss: 2.1471 - accuracy: 0.3333 - val_loss: 13.4868 - val_accuracy: 0.0000e+00\n",
      "Epoch 43/400000\n",
      "1/1 [==============================] - 0s 35ms/step - loss: 2.1197 - accuracy: 0.3333 - val_loss: 13.3792 - val_accuracy: 0.0000e+00\n",
      "Epoch 44/400000\n",
      "1/1 [==============================] - 0s 38ms/step - loss: 2.0947 - accuracy: 0.3333 - val_loss: 13.2816 - val_accuracy: 0.0000e+00\n",
      "Epoch 45/400000\n",
      "1/1 [==============================] - 0s 42ms/step - loss: 2.0723 - accuracy: 0.3333 - val_loss: 13.1949 - val_accuracy: 0.0000e+00\n",
      "Epoch 46/400000\n",
      "1/1 [==============================] - 0s 40ms/step - loss: 2.0526 - accuracy: 0.3333 - val_loss: 13.1200 - val_accuracy: 0.0000e+00\n",
      "Epoch 47/400000\n",
      "1/1 [==============================] - 0s 39ms/step - loss: 2.0354 - accuracy: 0.3333 - val_loss: 13.0566 - val_accuracy: 0.0000e+00\n",
      "Epoch 48/400000\n",
      "1/1 [==============================] - 0s 46ms/step - loss: 2.0208 - accuracy: 0.3333 - val_loss: 13.0043 - val_accuracy: 0.0000e+00\n",
      "Epoch 49/400000\n",
      "1/1 [==============================] - 0s 40ms/step - loss: 2.0086 - accuracy: 0.3333 - val_loss: 12.9618 - val_accuracy: 0.0000e+00\n",
      "Epoch 50/400000\n",
      "1/1 [==============================] - 0s 43ms/step - loss: 1.9986 - accuracy: 0.3333 - val_loss: 12.9275 - val_accuracy: 0.0000e+00\n",
      "Epoch 51/400000\n",
      "1/1 [==============================] - 0s 46ms/step - loss: 1.9904 - accuracy: 0.3333 - val_loss: 12.8993 - val_accuracy: 0.0000e+00\n",
      "Epoch 52/400000\n",
      "1/1 [==============================] - 0s 50ms/step - loss: 1.9835 - accuracy: 0.3333 - val_loss: 12.8751 - val_accuracy: 0.0000e+00\n",
      "Epoch 53/400000\n",
      "1/1 [==============================] - 0s 42ms/step - loss: 1.9774 - accuracy: 0.3333 - val_loss: 12.8530 - val_accuracy: 0.0000e+00\n",
      "Epoch 54/400000\n",
      "1/1 [==============================] - 0s 46ms/step - loss: 1.9718 - accuracy: 0.3333 - val_loss: 12.8313 - val_accuracy: 0.0000e+00\n",
      "Epoch 55/400000\n",
      "1/1 [==============================] - 0s 43ms/step - loss: 1.9662 - accuracy: 0.3333 - val_loss: 12.8091 - val_accuracy: 0.0000e+00\n",
      "Epoch 56/400000\n",
      "1/1 [==============================] - 0s 43ms/step - loss: 1.9604 - accuracy: 0.3333 - val_loss: 12.7861 - val_accuracy: 0.0000e+00\n",
      "Epoch 57/400000\n",
      "1/1 [==============================] - 0s 45ms/step - loss: 1.9542 - accuracy: 0.3333 - val_loss: 12.7629 - val_accuracy: 0.0000e+00\n",
      "Epoch 58/400000\n",
      "1/1 [==============================] - 0s 43ms/step - loss: 1.9478 - accuracy: 0.2222 - val_loss: 12.7404 - val_accuracy: 0.0000e+00\n",
      "Epoch 59/400000\n",
      "1/1 [==============================] - 0s 42ms/step - loss: 1.9412 - accuracy: 0.2222 - val_loss: 12.7204 - val_accuracy: 0.0000e+00\n",
      "Epoch 60/400000\n",
      "1/1 [==============================] - 0s 43ms/step - loss: 1.9347 - accuracy: 0.2222 - val_loss: 12.7047 - val_accuracy: 0.0000e+00\n",
      "Epoch 61/400000\n",
      "1/1 [==============================] - 0s 57ms/step - loss: 1.9284 - accuracy: 0.2222 - val_loss: 12.6949 - val_accuracy: 0.0000e+00\n",
      "Epoch 62/400000\n",
      "1/1 [==============================] - 0s 46ms/step - loss: 1.9227 - accuracy: 0.3333 - val_loss: 12.6925 - val_accuracy: 0.0000e+00\n",
      "Epoch 63/400000\n",
      "1/1 [==============================] - 0s 50ms/step - loss: 1.9176 - accuracy: 0.3333 - val_loss: 12.6986 - val_accuracy: 0.0000e+00\n",
      "Epoch 64/400000\n",
      "1/1 [==============================] - 0s 45ms/step - loss: 1.9132 - accuracy: 0.3333 - val_loss: 12.7137 - val_accuracy: 0.0000e+00\n",
      "Epoch 65/400000\n",
      "1/1 [==============================] - 0s 46ms/step - loss: 1.9096 - accuracy: 0.3333 - val_loss: 12.7380 - val_accuracy: 0.0000e+00\n",
      "Epoch 66/400000\n",
      "1/1 [==============================] - 0s 49ms/step - loss: 1.9066 - accuracy: 0.3333 - val_loss: 12.7711 - val_accuracy: 0.0000e+00\n",
      "Epoch 67/400000\n",
      "1/1 [==============================] - 0s 47ms/step - loss: 1.9041 - accuracy: 0.3333 - val_loss: 12.8121 - val_accuracy: 0.0000e+00\n",
      "Epoch 68/400000\n",
      "1/1 [==============================] - 0s 51ms/step - loss: 1.9021 - accuracy: 0.3333 - val_loss: 12.8601 - val_accuracy: 0.0000e+00\n",
      "Epoch 69/400000\n",
      "1/1 [==============================] - 0s 46ms/step - loss: 1.9003 - accuracy: 0.3333 - val_loss: 12.9138 - val_accuracy: 0.0000e+00\n",
      "Epoch 70/400000\n",
      "1/1 [==============================] - 0s 44ms/step - loss: 1.8987 - accuracy: 0.3333 - val_loss: 12.9718 - val_accuracy: 0.0000e+00\n",
      "Epoch 71/400000\n",
      "1/1 [==============================] - 0s 42ms/step - loss: 1.8971 - accuracy: 0.3333 - val_loss: 13.0328 - val_accuracy: 0.0000e+00\n",
      "Epoch 72/400000\n",
      "1/1 [==============================] - 0s 40ms/step - loss: 1.8955 - accuracy: 0.3333 - val_loss: 13.0954 - val_accuracy: 0.0000e+00\n",
      "Epoch 73/400000\n",
      "1/1 [==============================] - 0s 41ms/step - loss: 1.8939 - accuracy: 0.3333 - val_loss: 13.1585 - val_accuracy: 0.0000e+00\n",
      "Epoch 74/400000\n",
      "1/1 [==============================] - 0s 45ms/step - loss: 1.8922 - accuracy: 0.3333 - val_loss: 13.2210 - val_accuracy: 0.0000e+00\n",
      "Epoch 75/400000\n",
      "1/1 [==============================] - 0s 43ms/step - loss: 1.8904 - accuracy: 0.3333 - val_loss: 13.2820 - val_accuracy: 0.0000e+00\n",
      "Epoch 76/400000\n",
      "1/1 [==============================] - 0s 39ms/step - loss: 1.8886 - accuracy: 0.3333 - val_loss: 13.3409 - val_accuracy: 0.0000e+00\n",
      "Epoch 77/400000\n",
      "1/1 [==============================] - 0s 41ms/step - loss: 1.8867 - accuracy: 0.3333 - val_loss: 13.3974 - val_accuracy: 0.0000e+00\n",
      "Epoch 78/400000\n",
      "1/1 [==============================] - 0s 42ms/step - loss: 1.8848 - accuracy: 0.3333 - val_loss: 13.4512 - val_accuracy: 0.0000e+00\n",
      "Epoch 79/400000\n",
      "1/1 [==============================] - 0s 40ms/step - loss: 1.8829 - accuracy: 0.3333 - val_loss: 13.5025 - val_accuracy: 0.0000e+00\n",
      "Epoch 80/400000\n",
      "1/1 [==============================] - 0s 39ms/step - loss: 1.8812 - accuracy: 0.3333 - val_loss: 13.5513 - val_accuracy: 0.0000e+00\n",
      "Epoch 81/400000\n",
      "1/1 [==============================] - 0s 49ms/step - loss: 1.8795 - accuracy: 0.3333 - val_loss: 13.5981 - val_accuracy: 0.0000e+00\n",
      "Epoch 82/400000\n",
      "1/1 [==============================] - ETA: 0s - loss: 1.8779 - accuracy: 0.3333"
     ]
    },
    {
     "ename": "KeyboardInterrupt",
     "evalue": "",
     "output_type": "error",
     "traceback": [
      "\u001b[1;31m---------------------------------------------------------------------------\u001b[0m",
      "\u001b[1;31mKeyboardInterrupt\u001b[0m                         Traceback (most recent call last)",
      "File \u001b[1;32m<timed eval>:1\u001b[0m\n",
      "Cell \u001b[1;32mIn[142], line 43\u001b[0m, in \u001b[0;36mfit_epoch\u001b[1;34m(neuron, batch, epochs, ckpt_period)\u001b[0m\n\u001b[0;32m     33\u001b[0m  model\u001b[38;5;241m.\u001b[39mcompile(\n\u001b[0;32m     34\u001b[0m      loss\u001b[38;5;241m=\u001b[39m\u001b[38;5;124m'\u001b[39m\u001b[38;5;124mcategorical_crossentropy\u001b[39m\u001b[38;5;124m'\u001b[39m,\n\u001b[0;32m     35\u001b[0m      optimizer\u001b[38;5;241m=\u001b[39m\u001b[38;5;124m'\u001b[39m\u001b[38;5;124mAdamax\u001b[39m\u001b[38;5;124m'\u001b[39m,\n\u001b[0;32m     36\u001b[0m      metrics\u001b[38;5;241m=\u001b[39m[\u001b[38;5;124m'\u001b[39m\u001b[38;5;124maccuracy\u001b[39m\u001b[38;5;124m'\u001b[39m]\n\u001b[0;32m     37\u001b[0m  )\n\u001b[0;32m     39\u001b[0m  \u001b[38;5;66;03m# 必要に応じてチェックポイントから再開\u001b[39;00m\n\u001b[0;32m     40\u001b[0m  \u001b[38;5;66;03m# model.load_weights(\"\")\u001b[39;00m\n\u001b[0;32m     41\u001b[0m \n\u001b[0;32m     42\u001b[0m  \u001b[38;5;66;03m# 学習を実行\u001b[39;00m\n\u001b[1;32m---> 43\u001b[0m  hist \u001b[38;5;241m=\u001b[39m \u001b[43mmodel\u001b[49m\u001b[38;5;241;43m.\u001b[39;49m\u001b[43mfit\u001b[49m\u001b[43m(\u001b[49m\u001b[43mX_train\u001b[49m\u001b[43m,\u001b[49m\u001b[43m \u001b[49m\u001b[43my_train\u001b[49m\u001b[43m,\u001b[49m\n\u001b[0;32m     44\u001b[0m \u001b[43m     \u001b[49m\u001b[43mbatch_size\u001b[49m\u001b[38;5;241;43m=\u001b[39;49m\u001b[43mbatch\u001b[49m\u001b[43m,\u001b[49m\u001b[43m \u001b[49m\u001b[38;5;66;43;03m# 誤差逆伝播法をするときの1回当たりのデータ数\u001b[39;49;00m\n\u001b[0;32m     45\u001b[0m \u001b[43m     \u001b[49m\u001b[43mepochs\u001b[49m\u001b[38;5;241;43m=\u001b[39;49m\u001b[43mepochs\u001b[49m\u001b[43m,\u001b[49m\n\u001b[0;32m     46\u001b[0m \u001b[43m     \u001b[49m\u001b[43mcallbacks\u001b[49m\u001b[38;5;241;43m=\u001b[39;49m\u001b[43m[\u001b[49m\u001b[43mcp_callback\u001b[49m\u001b[43m]\u001b[49m\u001b[43m,\u001b[49m\n\u001b[0;32m     47\u001b[0m \u001b[43m     \u001b[49m\u001b[43mverbose\u001b[49m\u001b[38;5;241;43m=\u001b[39;49m\u001b[38;5;241;43m1\u001b[39;49m\u001b[43m,\u001b[49m\n\u001b[0;32m     48\u001b[0m \u001b[43m     \u001b[49m\u001b[43mvalidation_split\u001b[49m\u001b[38;5;241;43m=\u001b[39;49m\u001b[38;5;241;43m0.1\u001b[39;49m\u001b[43m)\u001b[49m\n\u001b[0;32m     50\u001b[0m \u001b[38;5;66;03m# モデルを評価\u001b[39;00m\n\u001b[0;32m     51\u001b[0m  score \u001b[38;5;241m=\u001b[39m model\u001b[38;5;241m.\u001b[39mevaluate(X_test, y_test, verbose\u001b[38;5;241m=\u001b[39m\u001b[38;5;241m1\u001b[39m)\n",
      "File \u001b[1;32m~\\AppData\\Local\\Packages\\PythonSoftwareFoundation.Python.3.11_qbz5n2kfra8p0\\LocalCache\\local-packages\\Python311\\site-packages\\keras\\src\\utils\\traceback_utils.py:65\u001b[0m, in \u001b[0;36mfilter_traceback.<locals>.error_handler\u001b[1;34m(*args, **kwargs)\u001b[0m\n\u001b[0;32m     63\u001b[0m filtered_tb \u001b[38;5;241m=\u001b[39m \u001b[38;5;28;01mNone\u001b[39;00m\n\u001b[0;32m     64\u001b[0m \u001b[38;5;28;01mtry\u001b[39;00m:\n\u001b[1;32m---> 65\u001b[0m     \u001b[38;5;28;01mreturn\u001b[39;00m \u001b[43mfn\u001b[49m\u001b[43m(\u001b[49m\u001b[38;5;241;43m*\u001b[39;49m\u001b[43margs\u001b[49m\u001b[43m,\u001b[49m\u001b[43m \u001b[49m\u001b[38;5;241;43m*\u001b[39;49m\u001b[38;5;241;43m*\u001b[39;49m\u001b[43mkwargs\u001b[49m\u001b[43m)\u001b[49m\n\u001b[0;32m     66\u001b[0m \u001b[38;5;28;01mexcept\u001b[39;00m \u001b[38;5;167;01mException\u001b[39;00m \u001b[38;5;28;01mas\u001b[39;00m e:\n\u001b[0;32m     67\u001b[0m     filtered_tb \u001b[38;5;241m=\u001b[39m _process_traceback_frames(e\u001b[38;5;241m.\u001b[39m__traceback__)\n",
      "File \u001b[1;32m~\\AppData\\Local\\Packages\\PythonSoftwareFoundation.Python.3.11_qbz5n2kfra8p0\\LocalCache\\local-packages\\Python311\\site-packages\\keras\\src\\engine\\training.py:1856\u001b[0m, in \u001b[0;36mModel.fit\u001b[1;34m(self, x, y, batch_size, epochs, verbose, callbacks, validation_split, validation_data, shuffle, class_weight, sample_weight, initial_epoch, steps_per_epoch, validation_steps, validation_batch_size, validation_freq, max_queue_size, workers, use_multiprocessing)\u001b[0m\n\u001b[0;32m   1840\u001b[0m \u001b[38;5;28;01mif\u001b[39;00m \u001b[38;5;28mgetattr\u001b[39m(\u001b[38;5;28mself\u001b[39m, \u001b[38;5;124m\"\u001b[39m\u001b[38;5;124m_eval_data_handler\u001b[39m\u001b[38;5;124m\"\u001b[39m, \u001b[38;5;28;01mNone\u001b[39;00m) \u001b[38;5;129;01mis\u001b[39;00m \u001b[38;5;28;01mNone\u001b[39;00m:\n\u001b[0;32m   1841\u001b[0m     \u001b[38;5;28mself\u001b[39m\u001b[38;5;241m.\u001b[39m_eval_data_handler \u001b[38;5;241m=\u001b[39m data_adapter\u001b[38;5;241m.\u001b[39mget_data_handler(\n\u001b[0;32m   1842\u001b[0m         x\u001b[38;5;241m=\u001b[39mval_x,\n\u001b[0;32m   1843\u001b[0m         y\u001b[38;5;241m=\u001b[39mval_y,\n\u001b[1;32m   (...)\u001b[0m\n\u001b[0;32m   1854\u001b[0m         pss_evaluation_shards\u001b[38;5;241m=\u001b[39m\u001b[38;5;28mself\u001b[39m\u001b[38;5;241m.\u001b[39m_pss_evaluation_shards,\n\u001b[0;32m   1855\u001b[0m     )\n\u001b[1;32m-> 1856\u001b[0m val_logs \u001b[38;5;241m=\u001b[39m \u001b[38;5;28;43mself\u001b[39;49m\u001b[38;5;241;43m.\u001b[39;49m\u001b[43mevaluate\u001b[49m\u001b[43m(\u001b[49m\n\u001b[0;32m   1857\u001b[0m \u001b[43m    \u001b[49m\u001b[43mx\u001b[49m\u001b[38;5;241;43m=\u001b[39;49m\u001b[43mval_x\u001b[49m\u001b[43m,\u001b[49m\n\u001b[0;32m   1858\u001b[0m \u001b[43m    \u001b[49m\u001b[43my\u001b[49m\u001b[38;5;241;43m=\u001b[39;49m\u001b[43mval_y\u001b[49m\u001b[43m,\u001b[49m\n\u001b[0;32m   1859\u001b[0m \u001b[43m    \u001b[49m\u001b[43msample_weight\u001b[49m\u001b[38;5;241;43m=\u001b[39;49m\u001b[43mval_sample_weight\u001b[49m\u001b[43m,\u001b[49m\n\u001b[0;32m   1860\u001b[0m \u001b[43m    \u001b[49m\u001b[43mbatch_size\u001b[49m\u001b[38;5;241;43m=\u001b[39;49m\u001b[43mvalidation_batch_size\u001b[49m\u001b[43m \u001b[49m\u001b[38;5;129;43;01mor\u001b[39;49;00m\u001b[43m \u001b[49m\u001b[43mbatch_size\u001b[49m\u001b[43m,\u001b[49m\n\u001b[0;32m   1861\u001b[0m \u001b[43m    \u001b[49m\u001b[43msteps\u001b[49m\u001b[38;5;241;43m=\u001b[39;49m\u001b[43mvalidation_steps\u001b[49m\u001b[43m,\u001b[49m\n\u001b[0;32m   1862\u001b[0m \u001b[43m    \u001b[49m\u001b[43mcallbacks\u001b[49m\u001b[38;5;241;43m=\u001b[39;49m\u001b[43mcallbacks\u001b[49m\u001b[43m,\u001b[49m\n\u001b[0;32m   1863\u001b[0m \u001b[43m    \u001b[49m\u001b[43mmax_queue_size\u001b[49m\u001b[38;5;241;43m=\u001b[39;49m\u001b[43mmax_queue_size\u001b[49m\u001b[43m,\u001b[49m\n\u001b[0;32m   1864\u001b[0m \u001b[43m    \u001b[49m\u001b[43mworkers\u001b[49m\u001b[38;5;241;43m=\u001b[39;49m\u001b[43mworkers\u001b[49m\u001b[43m,\u001b[49m\n\u001b[0;32m   1865\u001b[0m \u001b[43m    \u001b[49m\u001b[43muse_multiprocessing\u001b[49m\u001b[38;5;241;43m=\u001b[39;49m\u001b[43muse_multiprocessing\u001b[49m\u001b[43m,\u001b[49m\n\u001b[0;32m   1866\u001b[0m \u001b[43m    \u001b[49m\u001b[43mreturn_dict\u001b[49m\u001b[38;5;241;43m=\u001b[39;49m\u001b[38;5;28;43;01mTrue\u001b[39;49;00m\u001b[43m,\u001b[49m\n\u001b[0;32m   1867\u001b[0m \u001b[43m    \u001b[49m\u001b[43m_use_cached_eval_dataset\u001b[49m\u001b[38;5;241;43m=\u001b[39;49m\u001b[38;5;28;43;01mTrue\u001b[39;49;00m\u001b[43m,\u001b[49m\n\u001b[0;32m   1868\u001b[0m \u001b[43m\u001b[49m\u001b[43m)\u001b[49m\n\u001b[0;32m   1869\u001b[0m val_logs \u001b[38;5;241m=\u001b[39m {\n\u001b[0;32m   1870\u001b[0m     \u001b[38;5;124m\"\u001b[39m\u001b[38;5;124mval_\u001b[39m\u001b[38;5;124m\"\u001b[39m \u001b[38;5;241m+\u001b[39m name: val \u001b[38;5;28;01mfor\u001b[39;00m name, val \u001b[38;5;129;01min\u001b[39;00m val_logs\u001b[38;5;241m.\u001b[39mitems()\n\u001b[0;32m   1871\u001b[0m }\n\u001b[0;32m   1872\u001b[0m epoch_logs\u001b[38;5;241m.\u001b[39mupdate(val_logs)\n",
      "File \u001b[1;32m~\\AppData\\Local\\Packages\\PythonSoftwareFoundation.Python.3.11_qbz5n2kfra8p0\\LocalCache\\local-packages\\Python311\\site-packages\\keras\\src\\utils\\traceback_utils.py:65\u001b[0m, in \u001b[0;36mfilter_traceback.<locals>.error_handler\u001b[1;34m(*args, **kwargs)\u001b[0m\n\u001b[0;32m     63\u001b[0m filtered_tb \u001b[38;5;241m=\u001b[39m \u001b[38;5;28;01mNone\u001b[39;00m\n\u001b[0;32m     64\u001b[0m \u001b[38;5;28;01mtry\u001b[39;00m:\n\u001b[1;32m---> 65\u001b[0m     \u001b[38;5;28;01mreturn\u001b[39;00m \u001b[43mfn\u001b[49m\u001b[43m(\u001b[49m\u001b[38;5;241;43m*\u001b[39;49m\u001b[43margs\u001b[49m\u001b[43m,\u001b[49m\u001b[43m \u001b[49m\u001b[38;5;241;43m*\u001b[39;49m\u001b[38;5;241;43m*\u001b[39;49m\u001b[43mkwargs\u001b[49m\u001b[43m)\u001b[49m\n\u001b[0;32m     66\u001b[0m \u001b[38;5;28;01mexcept\u001b[39;00m \u001b[38;5;167;01mException\u001b[39;00m \u001b[38;5;28;01mas\u001b[39;00m e:\n\u001b[0;32m     67\u001b[0m     filtered_tb \u001b[38;5;241m=\u001b[39m _process_traceback_frames(e\u001b[38;5;241m.\u001b[39m__traceback__)\n",
      "File \u001b[1;32m~\\AppData\\Local\\Packages\\PythonSoftwareFoundation.Python.3.11_qbz5n2kfra8p0\\LocalCache\\local-packages\\Python311\\site-packages\\keras\\src\\engine\\training.py:2285\u001b[0m, in \u001b[0;36mModel.evaluate\u001b[1;34m(self, x, y, batch_size, verbose, sample_weight, steps, callbacks, max_queue_size, workers, use_multiprocessing, return_dict, **kwargs)\u001b[0m\n\u001b[0;32m   2283\u001b[0m \u001b[38;5;28;01mif\u001b[39;00m \u001b[38;5;28mself\u001b[39m\u001b[38;5;241m.\u001b[39mautotune_steps_per_execution:\n\u001b[0;32m   2284\u001b[0m     \u001b[38;5;28mself\u001b[39m\u001b[38;5;241m.\u001b[39m_steps_per_execution_tuner\u001b[38;5;241m.\u001b[39mstart()\n\u001b[1;32m-> 2285\u001b[0m \u001b[43m\u001b[49m\u001b[38;5;28;43;01mfor\u001b[39;49;00m\u001b[43m \u001b[49m\u001b[43m(\u001b[49m\n\u001b[0;32m   2286\u001b[0m \u001b[43m    \u001b[49m\u001b[43m_\u001b[49m\u001b[43m,\u001b[49m\n\u001b[0;32m   2287\u001b[0m \u001b[43m    \u001b[49m\u001b[43mdataset_or_iterator\u001b[49m\u001b[43m,\u001b[49m\n\u001b[0;32m   2288\u001b[0m \u001b[43m\u001b[49m\u001b[43m)\u001b[49m\u001b[43m \u001b[49m\u001b[38;5;129;43;01min\u001b[39;49;00m\u001b[43m \u001b[49m\u001b[43mdata_handler\u001b[49m\u001b[38;5;241;43m.\u001b[39;49m\u001b[43menumerate_epochs\u001b[49m\u001b[43m(\u001b[49m\u001b[43m)\u001b[49m\u001b[43m:\u001b[49m\u001b[43m  \u001b[49m\u001b[38;5;66;43;03m# Single epoch.\u001b[39;49;00m\n\u001b[0;32m   2289\u001b[0m \u001b[43m    \u001b[49m\u001b[38;5;28;43mself\u001b[39;49m\u001b[38;5;241;43m.\u001b[39;49m\u001b[43mreset_metrics\u001b[49m\u001b[43m(\u001b[49m\u001b[43m)\u001b[49m\n\u001b[0;32m   2290\u001b[0m \u001b[43m    \u001b[49m\u001b[38;5;28;43;01mwith\u001b[39;49;00m\u001b[43m \u001b[49m\u001b[43mdata_handler\u001b[49m\u001b[38;5;241;43m.\u001b[39;49m\u001b[43mcatch_stop_iteration\u001b[49m\u001b[43m(\u001b[49m\u001b[43m)\u001b[49m\u001b[43m:\u001b[49m\n",
      "File \u001b[1;32m~\\AppData\\Local\\Packages\\PythonSoftwareFoundation.Python.3.11_qbz5n2kfra8p0\\LocalCache\\local-packages\\Python311\\site-packages\\keras\\src\\engine\\data_adapter.py:1341\u001b[0m, in \u001b[0;36mDataHandler.enumerate_epochs\u001b[1;34m(self)\u001b[0m\n\u001b[0;32m   1339\u001b[0m \u001b[38;5;250m\u001b[39m\u001b[38;5;124;03m\"\"\"Yields `(epoch, tf.data.Iterator)`.\"\"\"\u001b[39;00m\n\u001b[0;32m   1340\u001b[0m \u001b[38;5;28;01mwith\u001b[39;00m \u001b[38;5;28mself\u001b[39m\u001b[38;5;241m.\u001b[39m_truncate_execution_to_epoch():\n\u001b[1;32m-> 1341\u001b[0m     data_iterator \u001b[38;5;241m=\u001b[39m \u001b[38;5;28miter\u001b[39m(\u001b[38;5;28mself\u001b[39m\u001b[38;5;241m.\u001b[39m_dataset)\n\u001b[0;32m   1342\u001b[0m     \u001b[38;5;28;01mfor\u001b[39;00m epoch \u001b[38;5;129;01min\u001b[39;00m \u001b[38;5;28mrange\u001b[39m(\u001b[38;5;28mself\u001b[39m\u001b[38;5;241m.\u001b[39m_initial_epoch, \u001b[38;5;28mself\u001b[39m\u001b[38;5;241m.\u001b[39m_epochs):\n\u001b[0;32m   1343\u001b[0m         \u001b[38;5;28;01mif\u001b[39;00m \u001b[38;5;28mself\u001b[39m\u001b[38;5;241m.\u001b[39m_insufficient_data:  \u001b[38;5;66;03m# Set by `catch_stop_iteration`.\u001b[39;00m\n",
      "File \u001b[1;32m~\\AppData\\Local\\Packages\\PythonSoftwareFoundation.Python.3.11_qbz5n2kfra8p0\\LocalCache\\local-packages\\Python311\\site-packages\\tensorflow\\python\\data\\ops\\dataset_ops.py:500\u001b[0m, in \u001b[0;36mDatasetV2.__iter__\u001b[1;34m(self)\u001b[0m\n\u001b[0;32m    498\u001b[0m \u001b[38;5;28;01mif\u001b[39;00m context\u001b[38;5;241m.\u001b[39mexecuting_eagerly() \u001b[38;5;129;01mor\u001b[39;00m ops\u001b[38;5;241m.\u001b[39minside_function():\n\u001b[0;32m    499\u001b[0m   \u001b[38;5;28;01mwith\u001b[39;00m ops\u001b[38;5;241m.\u001b[39mcolocate_with(\u001b[38;5;28mself\u001b[39m\u001b[38;5;241m.\u001b[39m_variant_tensor):\n\u001b[1;32m--> 500\u001b[0m     \u001b[38;5;28;01mreturn\u001b[39;00m \u001b[43miterator_ops\u001b[49m\u001b[38;5;241;43m.\u001b[39;49m\u001b[43mOwnedIterator\u001b[49m\u001b[43m(\u001b[49m\u001b[38;5;28;43mself\u001b[39;49m\u001b[43m)\u001b[49m\n\u001b[0;32m    501\u001b[0m \u001b[38;5;28;01melse\u001b[39;00m:\n\u001b[0;32m    502\u001b[0m   \u001b[38;5;28;01mraise\u001b[39;00m \u001b[38;5;167;01mRuntimeError\u001b[39;00m(\u001b[38;5;124m\"\u001b[39m\u001b[38;5;124m`tf.data.Dataset` only supports Python-style \u001b[39m\u001b[38;5;124m\"\u001b[39m\n\u001b[0;32m    503\u001b[0m                      \u001b[38;5;124m\"\u001b[39m\u001b[38;5;124miteration in eager mode or within tf.function.\u001b[39m\u001b[38;5;124m\"\u001b[39m)\n",
      "File \u001b[1;32m~\\AppData\\Local\\Packages\\PythonSoftwareFoundation.Python.3.11_qbz5n2kfra8p0\\LocalCache\\local-packages\\Python311\\site-packages\\tensorflow\\python\\data\\ops\\iterator_ops.py:706\u001b[0m, in \u001b[0;36mOwnedIterator.__init__\u001b[1;34m(self, dataset, components, element_spec)\u001b[0m\n\u001b[0;32m    702\u001b[0m   \u001b[38;5;28;01mif\u001b[39;00m (components \u001b[38;5;129;01mis\u001b[39;00m \u001b[38;5;129;01mnot\u001b[39;00m \u001b[38;5;28;01mNone\u001b[39;00m \u001b[38;5;129;01mor\u001b[39;00m element_spec \u001b[38;5;129;01mis\u001b[39;00m \u001b[38;5;129;01mnot\u001b[39;00m \u001b[38;5;28;01mNone\u001b[39;00m):\n\u001b[0;32m    703\u001b[0m     \u001b[38;5;28;01mraise\u001b[39;00m \u001b[38;5;167;01mValueError\u001b[39;00m(\n\u001b[0;32m    704\u001b[0m         \u001b[38;5;124m\"\u001b[39m\u001b[38;5;124mWhen `dataset` is provided, `element_spec` and `components` must \u001b[39m\u001b[38;5;124m\"\u001b[39m\n\u001b[0;32m    705\u001b[0m         \u001b[38;5;124m\"\u001b[39m\u001b[38;5;124mnot be specified.\u001b[39m\u001b[38;5;124m\"\u001b[39m)\n\u001b[1;32m--> 706\u001b[0m   \u001b[38;5;28;43mself\u001b[39;49m\u001b[38;5;241;43m.\u001b[39;49m\u001b[43m_create_iterator\u001b[49m\u001b[43m(\u001b[49m\u001b[43mdataset\u001b[49m\u001b[43m)\u001b[49m\n\u001b[0;32m    708\u001b[0m \u001b[38;5;28mself\u001b[39m\u001b[38;5;241m.\u001b[39m_get_next_call_count \u001b[38;5;241m=\u001b[39m \u001b[38;5;241m0\u001b[39m\n",
      "File \u001b[1;32m~\\AppData\\Local\\Packages\\PythonSoftwareFoundation.Python.3.11_qbz5n2kfra8p0\\LocalCache\\local-packages\\Python311\\site-packages\\tensorflow\\python\\data\\ops\\iterator_ops.py:745\u001b[0m, in \u001b[0;36mOwnedIterator._create_iterator\u001b[1;34m(self, dataset)\u001b[0m\n\u001b[0;32m    742\u001b[0m   \u001b[38;5;28;01massert\u001b[39;00m \u001b[38;5;28mlen\u001b[39m(fulltype\u001b[38;5;241m.\u001b[39margs[\u001b[38;5;241m0\u001b[39m]\u001b[38;5;241m.\u001b[39margs[\u001b[38;5;241m0\u001b[39m]\u001b[38;5;241m.\u001b[39margs) \u001b[38;5;241m==\u001b[39m \u001b[38;5;28mlen\u001b[39m(\n\u001b[0;32m    743\u001b[0m       \u001b[38;5;28mself\u001b[39m\u001b[38;5;241m.\u001b[39m_flat_output_types)\n\u001b[0;32m    744\u001b[0m   \u001b[38;5;28mself\u001b[39m\u001b[38;5;241m.\u001b[39m_iterator_resource\u001b[38;5;241m.\u001b[39mop\u001b[38;5;241m.\u001b[39mexperimental_set_type(fulltype)\n\u001b[1;32m--> 745\u001b[0m \u001b[43mgen_dataset_ops\u001b[49m\u001b[38;5;241;43m.\u001b[39;49m\u001b[43mmake_iterator\u001b[49m\u001b[43m(\u001b[49m\u001b[43mds_variant\u001b[49m\u001b[43m,\u001b[49m\u001b[43m \u001b[49m\u001b[38;5;28;43mself\u001b[39;49m\u001b[38;5;241;43m.\u001b[39;49m\u001b[43m_iterator_resource\u001b[49m\u001b[43m)\u001b[49m\n",
      "File \u001b[1;32m~\\AppData\\Local\\Packages\\PythonSoftwareFoundation.Python.3.11_qbz5n2kfra8p0\\LocalCache\\local-packages\\Python311\\site-packages\\tensorflow\\python\\ops\\gen_dataset_ops.py:3421\u001b[0m, in \u001b[0;36mmake_iterator\u001b[1;34m(dataset, iterator, name)\u001b[0m\n\u001b[0;32m   3419\u001b[0m \u001b[38;5;28;01mif\u001b[39;00m tld\u001b[38;5;241m.\u001b[39mis_eager:\n\u001b[0;32m   3420\u001b[0m   \u001b[38;5;28;01mtry\u001b[39;00m:\n\u001b[1;32m-> 3421\u001b[0m     _result \u001b[38;5;241m=\u001b[39m \u001b[43mpywrap_tfe\u001b[49m\u001b[38;5;241;43m.\u001b[39;49m\u001b[43mTFE_Py_FastPathExecute\u001b[49m\u001b[43m(\u001b[49m\n\u001b[0;32m   3422\u001b[0m \u001b[43m      \u001b[49m\u001b[43m_ctx\u001b[49m\u001b[43m,\u001b[49m\u001b[43m \u001b[49m\u001b[38;5;124;43m\"\u001b[39;49m\u001b[38;5;124;43mMakeIterator\u001b[39;49m\u001b[38;5;124;43m\"\u001b[39;49m\u001b[43m,\u001b[49m\u001b[43m \u001b[49m\u001b[43mname\u001b[49m\u001b[43m,\u001b[49m\u001b[43m \u001b[49m\u001b[43mdataset\u001b[49m\u001b[43m,\u001b[49m\u001b[43m \u001b[49m\u001b[43miterator\u001b[49m\u001b[43m)\u001b[49m\n\u001b[0;32m   3423\u001b[0m     \u001b[38;5;28;01mreturn\u001b[39;00m _result\n\u001b[0;32m   3424\u001b[0m   \u001b[38;5;28;01mexcept\u001b[39;00m _core\u001b[38;5;241m.\u001b[39m_NotOkStatusException \u001b[38;5;28;01mas\u001b[39;00m e:\n",
      "\u001b[1;31mKeyboardInterrupt\u001b[0m: "
     ]
    }
   ],
   "source": [
    "%%time\n",
    "fit_epoch(16, 512, 400000, 10000)"
   ]
  },
  {
   "cell_type": "code",
   "execution_count": null,
   "metadata": {},
   "outputs": [],
   "source": []
  }
 ],
 "metadata": {
  "kernelspec": {
   "display_name": "Python 3",
   "language": "python",
   "name": "python3"
  },
  "language_info": {
   "codemirror_mode": {
    "name": "ipython",
    "version": 3
   },
   "file_extension": ".py",
   "mimetype": "text/x-python",
   "name": "python",
   "nbconvert_exporter": "python",
   "pygments_lexer": "ipython3",
   "version": "3.11.7"
  }
 },
 "nbformat": 4,
 "nbformat_minor": 2
}
